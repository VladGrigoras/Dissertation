{
 "cells": [
  {
   "cell_type": "code",
   "execution_count": 1,
   "metadata": {},
   "outputs": [],
   "source": [
    "%run ./Dissertation.ipynb"
   ]
  },
  {
   "attachments": {},
   "cell_type": "markdown",
   "metadata": {},
   "source": [
    "In this notebook I apply different methodologies used across the literature to model SCZ. I specifically look at how parameter changes in the neurobiological network influence the psychometric function - i.e., the values of the Central Point and the Slope. I also come up with my own exploration of cross-modal links and their influence on schizophrenia."
   ]
  },
  {
   "cell_type": "code",
   "execution_count": 2,
   "metadata": {},
   "outputs": [],
   "source": [
    "n = int(200/0.4)\n",
    "a_distances = dist = [24, 39, 54, 75, 96, 111, 126]\n",
    "T = 200"
   ]
  },
  {
   "attachments": {},
   "cell_type": "markdown",
   "metadata": {},
   "source": [
    "### 1) Exploring E/I Imbalance"
   ]
  },
  {
   "attachments": {},
   "cell_type": "markdown",
   "metadata": {},
   "source": [
    "The most reliable neurobiological marker of schizophrenia is reduced GABAergic inhibition intraregionally, which I model through either excessive $L_{ex}^s$ values"
   ]
  },
  {
   "cell_type": "code",
   "execution_count": 3,
   "metadata": {},
   "outputs": [],
   "source": [
    "#Start by building the inflexible parameters\n",
    "\n",
    "Wt, Wa, Wv, Bt, Ba, Bv = FwFb(6.5, 6.5, 6.5, 6.55, 6.55, 6.55, 17, 990, 49, 0.98) #feedforward and feedback\n",
    "Wat, Wvt, Wav = crossmodal(1.3, 2, 1.3, 2, 1.3, 2)"
   ]
  },
  {
   "cell_type": "code",
   "execution_count": 4,
   "metadata": {},
   "outputs": [
    {
     "name": "stderr",
     "output_type": "stream",
     "text": [
      "C:\\Users\\Vlad\\AppData\\Local\\Temp\\ipykernel_22772\\3541881538.py:34: RuntimeWarning: overflow encountered in exp\n",
      "  psim = (fmin_m + fmax_m * np.exp((qm - qc_m) * r_m)) / (1 + np.exp((qm - qc_m) * r_m))\n",
      "C:\\Users\\Vlad\\AppData\\Local\\Temp\\ipykernel_22772\\3541881538.py:34: RuntimeWarning: invalid value encountered in double_scalars\n",
      "  psim = (fmin_m + fmax_m * np.exp((qm - qc_m) * r_m)) / (1 + np.exp((qm - qc_m) * r_m))\n"
     ]
    }
   ],
   "source": [
    "LEXs = np.linspace(0.175, 1.25, 15) #anything larger bugs out, unless paired with weaker top-down connections as well\n",
    "\n",
    "zt = np.zeros((len(LEXs), Mt,Nt,len(dist), n))\n",
    "zv = np.zeros((len(LEXs), Mv,Nv,len(dist), n))\n",
    "za = np.zeros((len(LEXs), Ma,Na,len(dist), n))\n",
    "zm = np.zeros((len(LEXs), len(dist), n))\n",
    "\n",
    "LRTs = np.zeros((len(LEXs), len(dist)))\n",
    "\n",
    "for i in range(len(LEXs)):\n",
    "    #For each L_ex see what happens\n",
    "    Lt, La, Lv = Lw(LEXs[i], 0.05, 1, 4, LEXs[i], 0.05, 20, 80, LEXs[i], 0.05, 2, 8)\n",
    "    zt[i,:,:,:,:], za[i,:,:,:,:], zm[i,:,:], zv[i,:,:,:,:], LRTs[i, :] = experiment(0.4, T, dist, 5, Lt, La, Lv, Wt, Wa, Wv, Bt, Ba, Bv, Wat, Wvt, Wav, 0, 0)"
   ]
  },
  {
   "cell_type": "code",
   "execution_count": 5,
   "metadata": {},
   "outputs": [],
   "source": [
    "Lcp = np.zeros(len(LEXs))\n",
    "Lslope = np.zeros(len(LEXs))\n",
    "\n",
    "for i in range(len(LEXs)):\n",
    "  RTs = LRTs[i,:]\n",
    "\n",
    "  ymin = np.min(RTs)\n",
    "  ymax = np.max(RTs)\n",
    "\n",
    "  Lcp[i], Lslope[i] = fitting(a_distances, RTs)  \n",
    "\n",
    "np.save(\"Lcp.npy\", Lcp)\n",
    "np.save(\"Lslope.npy\", Lslope)\n",
    "np.save(\"LRT.npy\", LRTs)"
   ]
  },
  {
   "attachments": {},
   "cell_type": "markdown",
   "metadata": {},
   "source": [
    "### 2)Exploring FW Pruning"
   ]
  },
  {
   "attachments": {},
   "cell_type": "markdown",
   "metadata": {},
   "source": [
    "Another straightforward method in the literature is synaptic pruning of feedforward weights from the unisensory regions into the multisensory neuron. "
   ]
  },
  {
   "cell_type": "code",
   "execution_count": 6,
   "metadata": {},
   "outputs": [],
   "source": [
    "Lt, La, Lv = Lw(0.15, 0.05, 1, 4, 0.15, 0.05, 20, 80, 0.15, 0.05, 2, 8)\n",
    "Wt, Wa, Wv, Bt, Ba, Bv = FwFb(6.5, 6.5, 6.5, 6.55, 6.55, 6.55, 17, 990, 49, 0.98) #feedforward and feedback\n",
    "Wat, Wvt, Wav = crossmodal(1.3, 2, 1.3, 2, 1.3, 2)"
   ]
  },
  {
   "cell_type": "code",
   "execution_count": 7,
   "metadata": {},
   "outputs": [
    {
     "name": "stdout",
     "output_type": "stream",
     "text": [
      "[0.94919941 0.92910149 0.92910149 0.89514279 0.83624616 0.73246402\n",
      " 0.73246402 0.73246402] [0.98359332 0.97340201 0.96021914 0.92044804 0.84184119 0.81042714\n",
      " 0.75918771 0.744427  ]\n"
     ]
    }
   ],
   "source": [
    "PRs = [0.75, 1, 1.25, 2.25, 4, 5, 6, 6.5]\n",
    "\n",
    "percpr_a = np.zeros(len(PRs))\n",
    "percpr_v = np.zeros(len(PRs))\n",
    "\n",
    "for i in range(len(PRs)):\n",
    "    wpruna = prun(Wa, PRs[i])\n",
    "    wprunv = prun(Wv, PRs[i])\n",
    "    percpr_a[i] = np.sum(wpruna) / np.sum(Wa)\n",
    "    percpr_v[i] = np.sum(wprunv) / np.sum(Wv)\n",
    "\n",
    "print(percpr_a, percpr_v)"
   ]
  },
  {
   "cell_type": "code",
   "execution_count": 8,
   "metadata": {},
   "outputs": [],
   "source": [
    "zt = np.zeros((len(PRs), Mt,Nt,len(dist), n))\n",
    "zv = np.zeros((len(PRs), Mv,Nv,len(dist), n))\n",
    "za = np.zeros((len(PRs), Ma,Na,len(dist), n))\n",
    "zm = np.zeros((len(PRs), len(dist), n))\n",
    "PRRTs = np.zeros((len(PRs), len(dist)))\n",
    "\n",
    "for i in range(len(PRs)):\n",
    "    zt[i,:,:,:,:], za[i,:,:,:,:], zm[i,:,:], zv[i,:,:,:,:], PRRTs[i,:] = experiment(0.4, T, dist, 5, Lt, La, Lv, Wt, Wa, Wv, Bt, Ba, Bv, Wat, Wvt, Wav, PRs[i], 0)"
   ]
  },
  {
   "cell_type": "code",
   "execution_count": 9,
   "metadata": {},
   "outputs": [],
   "source": [
    "PRcp = np.zeros(len(PRs))\n",
    "PRslope = np.zeros(len(PRs))\n",
    "\n",
    "for i in range(len(PRs)):\n",
    "  RTs = PRRTs[i,:]\n",
    "\n",
    "  ymin = np.min(RTs)\n",
    "  ymax = np.max(RTs)\n",
    "\n",
    "  PRcp[i], PRslope[i] = fitting(a_distances, RTs)  \n",
    "\n",
    "np.save(\"PRcp.npy\", PRcp)\n",
    "np.save(\"PRslope.npy\", PRslope)\n",
    "np.save(\"PRRT.npy\", PRRTs)"
   ]
  },
  {
   "attachments": {},
   "cell_type": "markdown",
   "metadata": {},
   "source": [
    "### 3)Exploring B_0"
   ]
  },
  {
   "attachments": {},
   "cell_type": "markdown",
   "metadata": {},
   "source": [
    "Paredes et al., 2021 further eplore top-down signalling issues, which they end up removing from their end model. Since my model includes crossmodal connectivity, this exploration could be of use"
   ]
  },
  {
   "cell_type": "code",
   "execution_count": 10,
   "metadata": {},
   "outputs": [],
   "source": [
    "#Start by building the inflexible parameters\n",
    "\n",
    "Wat, Wvt, Wav = crossmodal(1.3, 2, 1.3, 2, 1.3, 2) #cross-modal\n",
    "Lt, La, Lv = Lw(0.15, 0.05, 1, 4, 0.15, 0.05, 20, 80, 0.15, 0.05, 2, 8) #lateral"
   ]
  },
  {
   "cell_type": "code",
   "execution_count": 11,
   "metadata": {},
   "outputs": [],
   "source": [
    "FBs = np.linspace(6.55, 4.5, 15)\n",
    "FBr = FBs / 6.55\n",
    "zt = np.zeros((len(FBs), Mt, Nt, len(dist), n))\n",
    "zv = np.zeros((len(FBs), Mv, Nv, len(dist), n))\n",
    "za = np.zeros((len(FBs), Ma, Na, len(dist), n))\n",
    "zm = np.zeros((len(FBs), len(dist), n))\n",
    "BRTs = np.zeros((len(FBs), len(dist)))\n",
    "\n",
    "for i in range(len(FBs)):\n",
    "    Wt, Wa, Wv, Bt, Ba, Bv = FwFb(6.5, 6.5, 6.5, FBs[i], FBs[i], FBs[i], 17, 990, 49, 0.98) #feedforward and feedback\n",
    "    zt[i,:,:,:,:], za[i,:,:,:,:], zm[i,:,:], zv[i,:,:,:,:], BRTs[i, :] = experiment(0.4, T, dist, 5, Lt, La, Lv, Wt, Wa, Wv, Bt, Ba, Bv, Wat, Wvt, Wav, 0, 0)"
   ]
  },
  {
   "cell_type": "code",
   "execution_count": 12,
   "metadata": {},
   "outputs": [],
   "source": [
    "Bcp = np.zeros(len(FBs))\n",
    "Bslope = np.zeros(len(FBs))\n",
    "\n",
    "for i in range(len(FBs)):\n",
    "  RTs = BRTs[i,:]\n",
    "\n",
    "  ymin = np.min(RTs)\n",
    "  ymax = np.max(RTs)\n",
    "\n",
    "  Bcp[i], Bslope[i] = fitting(dist, RTs)  \n",
    "\n",
    "np.save(\"Bcp.npy\", Bcp)\n",
    "np.save(\"Bslope.npy\", Bslope)\n",
    "np.save(\"BRT.npy\", BRTs)"
   ]
  },
  {
   "attachments": {},
   "cell_type": "markdown",
   "metadata": {},
   "source": [
    "### 4)Exploring $\\Phi_{cm}$"
   ]
  },
  {
   "cell_type": "code",
   "execution_count": 13,
   "metadata": {},
   "outputs": [],
   "source": [
    "#Start by building the inflexible parameters\n",
    "\n",
    "Wt, Wa, Wv, Bt, Ba, Bv = FwFb(6.5, 6.5, 6.5, 6.55, 6.55, 6.55, 17, 990, 49, 0.98) #feedforward and feedback\n",
    "Lt, La, Lv = Lw(0.15, 0.05, 1, 4, 0.15, 0.05, 20, 80, 0.15, 0.05, 2, 8) #lateral"
   ]
  },
  {
   "cell_type": "code",
   "execution_count": 14,
   "metadata": {},
   "outputs": [],
   "source": [
    "CMs = np.linspace(1.25, 0.125, 15)"
   ]
  },
  {
   "cell_type": "code",
   "execution_count": 15,
   "metadata": {},
   "outputs": [],
   "source": [
    "zt = np.zeros((len(CMs), Mt,Nt,len(dist), n))\n",
    "zv = np.zeros((len(CMs), Mv,Nv,len(dist), n))\n",
    "za = np.zeros((len(CMs), Ma,Na,len(dist), n))\n",
    "zm = np.zeros((len(CMs), len(dist), n))\n",
    "CMRTs = np.zeros((len(CMs), len(dist)))\n",
    "\n",
    "for i in range(len(CMs)):\n",
    "    Wat, Wvt, Wav = crossmodal(CMs[i], 2, CMs[i], 2, CMs[i], 2) #cross-modal\n",
    "    zt[i,:,:,:,:], za[i,:,:,:,:], zm[i,:,:], zv[i,:,:,:,:], CMRTs[i,:] = experiment(0.4, T, dist, 5, Lt, La, Lv, Wt, Wa, Wv, Bt, Ba, Bv, Wat, Wvt, Wav, 0, 0)"
   ]
  },
  {
   "cell_type": "code",
   "execution_count": 16,
   "metadata": {},
   "outputs": [],
   "source": [
    "CMcp = np.zeros(len(CMs))\n",
    "CMslope = np.zeros(len(CMs))\n",
    "\n",
    "for i in range(len(CMs)):\n",
    "  RTs = CMRTs[i,:]\n",
    "\n",
    "  ymin = np.min(RTs)\n",
    "  ymax = np.max(RTs)\n",
    "\n",
    "  CMcp[i], CMslope[i] = fitting(a_distances, RTs)  \n",
    "\n",
    "np.save(\"CMcp.npy\", CMcp)\n",
    "np.save(\"CMslope.npy\", CMslope)\n",
    "np.save(\"CMRT.npy\", CMRTs)"
   ]
  },
  {
   "attachments": {},
   "cell_type": "markdown",
   "metadata": {},
   "source": [
    "### 5) Plots"
   ]
  },
  {
   "cell_type": "code",
   "execution_count": 17,
   "metadata": {},
   "outputs": [],
   "source": [
    "#Alternatively, if you have the numpy objects and dont want to check for yourself\n",
    "#FB = np.linspace(7.75, 4.5, 15)\n",
    "#LEXs = np.linspace(0.175, 1.25, 15) / 0.15\n",
    "#\n",
    "#FBr = FB / 7.75 \n",
    "#\n",
    "#Lcp = np.load(\"./Lcp.npy\")\n",
    "#Lslope = np.load(\"./Lslope.npy\")\n",
    "#LRTs = np.load(\"./LRT.npy\")\n",
    "#\n",
    "#Bcp = np.load(\"./Bcp.npy\")\n",
    "#Bslope = np.load(\"./Bslope.npy\")\n",
    "#BRTs = np.load(\"./BRT.npy\")\n",
    "#\n",
    "#PRcp = np.load(\"./PRcp.npy\")\n",
    "#PRslope = np.load(\"./PRslope.npy\")\n",
    "#PRRTs = np.load(\"./PRRT.npy\")"
   ]
  },
  {
   "cell_type": "code",
   "execution_count": 18,
   "metadata": {},
   "outputs": [],
   "source": [
    "LEXs = np.linspace(0.175, 1.25, 15) / 0.15\n",
    "FBr = np.linspace(6.55, 4.5, 15) / 7.75 "
   ]
  },
  {
   "cell_type": "code",
   "execution_count": 19,
   "metadata": {},
   "outputs": [
    {
     "data": {
      "image/png": "[encoded data removed]",
      "text/plain": [
       "<Figure size 1080x576 with 8 Axes>"
      ]
     },
     "metadata": {
      "needs_background": "light"
     },
     "output_type": "display_data"
    }
   ],
   "source": [
    "#Plot 2.18 \n",
    "\n",
    "rate = percpr_a \n",
    "fig, ax = plt.subplots(4, 2, figsize = (15, 8))\n",
    "\n",
    "ax[0,0].plot(FBr, Bcp, label = \"$B_0$\", color = \"k\", marker = \"^\")\n",
    "ax[0,0].set_title(\"CP values as a function of HC-scaled parameter values\", fontsize = 15)\n",
    "ax[0,0].legend()\n",
    "\n",
    "ax[0,1].plot(FBr, Bslope, label = \"$B_0$\", color = \"k\", marker = \"^\")\n",
    "\n",
    "ax[0,1].set_title(\"Slope values as a function of HC-scaled parameter values\", fontsize = 15)\n",
    "\n",
    "ax[1,0].plot(rate, PRcp, label = \"Percentage of Pruning\", color = \"k\", marker = \"o\")\n",
    "ax[1,0].legend()\n",
    "\n",
    "ax[1,1].plot(rate, PRslope, color = \"k\", marker = \"o\")\n",
    "\n",
    "ax[2,0].plot(LEXs, Lcp, label = \"$L_{ex}$ changes\", color = \"k\", marker = \"x\")\n",
    "ax[2,0].legend()\n",
    "ax[2,1].plot(LEXs, Lslope, color = \"k\", marker = \"x\")\n",
    "\n",
    "\n",
    "ax[3,0].plot(CMs / 1.275, CMcp, label = \"$\\Phi_{rm}$ changes\", color = \"k\", marker = \"v\")\n",
    "ax[3,0].legend()\n",
    "ax[3,1].plot(CMs / 1.275, CMslope, color = \"k\", marker = \"v\")\n",
    "fig.text(0.51, 0.075, 'Scaled Range', ha='center', fontsize = 15)\n",
    "fig.text(0.08, 0.5, 'CP', va='center', rotation='vertical', fontsize = 13)\n",
    "fig.text(0.5, 0.5, 'Slope', va='center', rotation='vertical', fontsize = 13)\n",
    "\n",
    "plt.show()"
   ]
  }
 ],
 "metadata": {
  "kernelspec": {
   "display_name": "Python 3",
   "language": "python",
   "name": "python3"
  },
  "language_info": {
   "codemirror_mode": {
    "name": "ipython",
    "version": 3
   },
   "file_extension": ".py",
   "mimetype": "text/x-python",
   "name": "python",
   "nbconvert_exporter": "python",
   "pygments_lexer": "ipython3",
   "version": "3.8.10"
  },
  "orig_nbformat": 4,
  "vscode": {
   "interpreter": {
    "hash": "e7370f93d1d0cde622a1f8e1c04877d8463912d04d973331ad4851f04de6915a"
   }
  }
 },
 "nbformat": 4,
 "nbformat_minor": 2
}
