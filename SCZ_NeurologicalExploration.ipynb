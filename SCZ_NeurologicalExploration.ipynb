{
 "cells": [
  {
   "cell_type": "code",
   "execution_count": 1,
   "metadata": {},
   "outputs": [],
   "source": [
    "%run ./Dissertation.ipynb"
   ]
  },
  {
   "attachments": {},
   "cell_type": "markdown",
   "metadata": {},
   "source": [
    "In this notebook I apply different methodologies used across the literature to model SCZ. I specifically look at how parameter changes in the neurobiological network influence the psychometric function - i.e., the values of the Central Point and the Slope. I also come up with my own exploration of cross-modal links and their influence on schizophrenia."
   ]
  },
  {
   "cell_type": "code",
   "execution_count": 6,
   "metadata": {},
   "outputs": [],
   "source": [
    "n = int(200/0.4)\n",
    "a_distances = dist = [24, 39, 54, 75, 96, 111, 126]\n",
    "T = 200"
   ]
  },
  {
   "attachments": {},
   "cell_type": "markdown",
   "metadata": {},
   "source": [
    "### 1) Exploring E/I Imbalance"
   ]
  },
  {
   "attachments": {},
   "cell_type": "markdown",
   "metadata": {},
   "source": [
    "The most reliable neurobiological marker of schizophrenia is reduced GABAergic inhibition intraregionally, which I model through either excessive $L_{ex}^s$ values"
   ]
  },
  {
   "cell_type": "code",
   "execution_count": 3,
   "metadata": {},
   "outputs": [],
   "source": [
    "#Start by building the inflexible parameters\n",
    "\n",
    "Wt, Wa, Wv, Bt, Ba, Bv = FwFb(6.5, 6.5, 6.5, 7.75, 7.75, 7.75, 17, 990, 49, 0.98) #feedforward and feedback\n",
    "Wat, Wvt, Wav = crossmodal(.9, 2, .9, 2, .9, 2) #cross-modal"
   ]
  },
  {
   "cell_type": "code",
   "execution_count": 4,
   "metadata": {},
   "outputs": [
    {
     "name": "stderr",
     "output_type": "stream",
     "text": [
      "<ipython-input-1-f0752756f30b>:34: RuntimeWarning: overflow encountered in exp\n",
      "  psim = (fmin_m + fmax_m * np.exp((qm - qc_m) * r_m)) / (1 + np.exp((qm - qc_m) * r_m))\n",
      "<ipython-input-1-f0752756f30b>:34: RuntimeWarning: invalid value encountered in double_scalars\n",
      "  psim = (fmin_m + fmax_m * np.exp((qm - qc_m) * r_m)) / (1 + np.exp((qm - qc_m) * r_m))\n",
      "<ipython-input-1-83afd62fc308>:95: RuntimeWarning: invalid value encountered in greater\n",
      "  rt[i, j] = np.any(zt[:,:,i,j - 1] > (0.9))\n"
     ]
    }
   ],
   "source": [
    "LEXs = np.linspace(0.175, 1.25, 15) #anything larger bugs out, unless paired with weaker top-down connections as well\n",
    "\n",
    "zt = np.zeros((len(LEXs), Mt,Nt,len(dist), n))\n",
    "zv = np.zeros((len(LEXs), Mv,Nv,len(dist), n))\n",
    "za = np.zeros((len(LEXs), Ma,Na,len(dist), n))\n",
    "zm = np.zeros((len(LEXs), len(dist), n))\n",
    "\n",
    "LRTs = np.zeros((len(LEXs), len(dist)))\n",
    "\n",
    "for i in range(len(LEXs)):\n",
    "    #For each L_ex see what happens\n",
    "    Lt, La, Lv = Lw(LEXs[i], 0.05, 1, 4, LEXs[i], 0.05, 20, 80, LEXs[i], 0.05, 2, 8)\n",
    "    zt[i,:,:,:,:], za[i,:,:,:,:], zm[i,:,:], zv[i,:,:,:,:], LRTs[i, :] = experiment(0.4, T, dist, 5, Lt, La, Lv, Wt, Wa, Wv, Bt, Ba, Bv, Wat, Wvt, Wav, 0, 0)"
   ]
  },
  {
   "cell_type": "code",
   "execution_count": 7,
   "metadata": {},
   "outputs": [],
   "source": [
    "Lcp = np.zeros(len(LEXs))\n",
    "Lslope = np.zeros(len(LEXs))\n",
    "\n",
    "for i in range(len(LEXs)):\n",
    "  RTs = LRTs[i,:]\n",
    "\n",
    "  ymin = np.min(RTs)\n",
    "  ymax = np.max(RTs)\n",
    "\n",
    "  Lcp[i], Lslope[i] = fitting(a_distances, RTs)  \n",
    "\n",
    "np.save(\"Lcp.npy\", Lcp)\n",
    "np.save(\"Lslope.npy\", Lslope)\n",
    "np.save(\"LRT.npy\", LRTs)"
   ]
  },
  {
   "attachments": {},
   "cell_type": "markdown",
   "metadata": {},
   "source": [
    "### 2)Exploring FW Pruning"
   ]
  },
  {
   "attachments": {},
   "cell_type": "markdown",
   "metadata": {},
   "source": [
    "Another straightforward method in the literature is synaptic pruning of feedforward weights from the unisensory regions into the multisensory neuron. "
   ]
  },
  {
   "cell_type": "code",
   "execution_count": 11,
   "metadata": {},
   "outputs": [],
   "source": [
    "#Start by building the inflexible parameters\n",
    "\n",
    "Wt, Wa, Wv, Bt, Ba, Bv = FwFb(6.5, 6.5, 6.5, 7.75, 7.75, 7.75, 17, 990, 49, 0.98) #feedforward and feedback\n",
    "Wat, Wvt, Wav = crossmodal(.9, 2, .9, 2, .9, 2) #cross-modal\n",
    "Lt, La, Lv = Lw(0.15, 0.05, 1, 4, 0.15, 0.05, 20, 80, 0.15, 0.05, 2, 8) #lateral"
   ]
  },
  {
   "cell_type": "code",
   "execution_count": 14,
   "metadata": {},
   "outputs": [
    {
     "name": "stdout",
     "output_type": "stream",
     "text": [
      "[0.94919941 0.92910149 0.92910149 0.89514279 0.83624616 0.73246402\n",
      " 0.73246402 0.73246402] [0.98359332 0.97340201 0.96021914 0.92044804 0.84184119 0.81042714\n",
      " 0.75918771 0.744427  ]\n"
     ]
    }
   ],
   "source": [
    "PRs = [0.75, 1, 1.25, 2.25, 4, 5, 6, 6.5]\n",
    "\n",
    "percpr_a = np.zeros(len(PRs))\n",
    "percpr_v = np.zeros(len(PRs))\n",
    "\n",
    "for i in range(len(PRs)):\n",
    "    wpruna = prun(Wa, PRs[i])\n",
    "    wprunv = prun(Wv, PRs[i])\n",
    "    percpr_a[i] = np.sum(wpruna) / np.sum(Wa)\n",
    "    percpr_v[i] = np.sum(wprunv) / np.sum(Wv)\n",
    "\n",
    "print(percpr_a, percpr_v)"
   ]
  },
  {
   "cell_type": "code",
   "execution_count": 15,
   "metadata": {},
   "outputs": [],
   "source": [
    "zt = np.zeros((len(PRs), Mt,Nt,len(dist), n))\n",
    "zv = np.zeros((len(PRs), Mv,Nv,len(dist), n))\n",
    "za = np.zeros((len(PRs), Ma,Na,len(dist), n))\n",
    "zm = np.zeros((len(PRs), len(dist), n))\n",
    "PRRTs = np.zeros((len(PRs), len(dist)))\n",
    "\n",
    "for i in range(len(PRs)):\n",
    "    zt[i,:,:,:,:], za[i,:,:,:,:], zm[i,:,:], zv[i,:,:,:,:], PRRTs[i,:] = experiment(0.4, T, dist, 5, Lt, La, Lv, Wt, Wa, Wv, Bt, Ba, Bv, Wat, Wvt, Wav, PRs[i], 0)"
   ]
  },
  {
   "cell_type": "code",
   "execution_count": 16,
   "metadata": {},
   "outputs": [
    {
     "name": "stderr",
     "output_type": "stream",
     "text": [
      "<ipython-input-1-c1e58c6bfe81>:13: RuntimeWarning: overflow encountered in exp\n",
      "  sig = (ymin + ymax * np.exp((distances - cp) / slope)) / (1 + np.exp((distances - cp) / slope))\n",
      "<ipython-input-1-c1e58c6bfe81>:13: RuntimeWarning: invalid value encountered in true_divide\n",
      "  sig = (ymin + ymax * np.exp((distances - cp) / slope)) / (1 + np.exp((distances - cp) / slope))\n"
     ]
    }
   ],
   "source": [
    "PRcp = np.zeros(len(PRs))\n",
    "PRslope = np.zeros(len(PRs))\n",
    "\n",
    "for i in range(len(PRs)):\n",
    "  RTs = PRRTs[i,:]\n",
    "\n",
    "  ymin = np.min(RTs)\n",
    "  ymax = np.max(RTs)\n",
    "\n",
    "  PRcp[i], PRslope[i] = fitting(a_distances, RTs)  \n",
    "\n",
    "np.save(\"PRcp.npy\", PRcp)\n",
    "np.save(\"PRslope.npy\", PRslope)\n",
    "np.save(\"PRRT.npy\", PRRTs)"
   ]
  },
  {
   "attachments": {},
   "cell_type": "markdown",
   "metadata": {},
   "source": [
    "### 3)Exploring B_0"
   ]
  },
  {
   "attachments": {},
   "cell_type": "markdown",
   "metadata": {},
   "source": [
    "Paredes et al., 2021 further eplore top-down signalling issues, which they end up removing from their end model. Since my model includes crossmodal connectivity, this exploration could be of use"
   ]
  },
  {
   "cell_type": "code",
   "execution_count": 17,
   "metadata": {},
   "outputs": [],
   "source": [
    "#Start by building the inflexible parameters\n",
    "\n",
    "Wat, Wvt, Wav = crossmodal(.9, 2, .9, 2, .9, 2) #cross-modal\n",
    "Lt, La, Lv = Lw(0.15, 0.05, 1, 4, 0.15, 0.05, 20, 80, 0.15, 0.05, 2, 8) #lateral"
   ]
  },
  {
   "cell_type": "code",
   "execution_count": 27,
   "metadata": {},
   "outputs": [],
   "source": [
    "FBs = np.linspace(7.75, 4.5, 15)\n",
    "\n",
    "zt = np.zeros((len(FBs), Mt, Nt, len(dist), n))\n",
    "zv = np.zeros((len(FBs), Mv, Nv, len(dist), n))\n",
    "za = np.zeros((len(FBs), Ma, Na, len(dist), n))\n",
    "zm = np.zeros((len(FBs), len(dist), n))\n",
    "BRTs = np.zeros((len(FBs), len(dist)))\n",
    "\n",
    "for i in range(len(FBs)):\n",
    "    Wt, Wa, Wv, Bt, Ba, Bv = FwFb(6.5, 6.5, 6.5, FBs[i], FBs[i], FBs[i], 17, 990, 49, 0.98) #feedforward and feedback\n",
    "    zt[i,:,:,:,:], za[i,:,:,:,:], zm[i,:,:], zv[i,:,:,:,:], BRTs[i, :] = experiment(0.4, T, dist, 5, Lt, La, Lv, Wt, Wa, Wv, Bt, Ba, Bv, Wat, Wvt, Wav, 0, 0)"
   ]
  },
  {
   "cell_type": "code",
   "execution_count": 28,
   "metadata": {},
   "outputs": [],
   "source": [
    "Bcp = np.zeros(len(FBs))\n",
    "Bslope = np.zeros(len(FBs))\n",
    "\n",
    "for i in range(len(FBs)):\n",
    "  RTs = BRTs[i,:]\n",
    "\n",
    "  ymin = np.min(RTs)\n",
    "  ymax = np.max(RTs)\n",
    "\n",
    "  Bcp[i], Bslope[i] = fitting(dist, RTs)  \n",
    "\n",
    "np.save(\"Bcp.npy\", Bcp)\n",
    "np.save(\"Bslope.npy\", Bslope)\n",
    "np.save(\"BRT.npy\", BRTs)"
   ]
  },
  {
   "cell_type": "code",
   "execution_count": 34,
   "metadata": {},
   "outputs": [
    {
     "data": {
      "text/plain": [
       "array([78.63528119, 78.42913731, 79.08994446, 79.08994452, 78.73652182,\n",
       "       79.3661782 , 78.45224061, 78.94600595, 78.40478789, 78.89712542,\n",
       "       79.16915597, 78.94143067, 78.93544386, 76.86719659, 70.9247846 ])"
      ]
     },
     "execution_count": 34,
     "metadata": {},
     "output_type": "execute_result"
    }
   ],
   "source": [
    "Bcp"
   ]
  },
  {
   "attachments": {},
   "cell_type": "markdown",
   "metadata": {},
   "source": [
    "### 4) Exploring $\\Phi_{rs}$ - Cross-Modal Links"
   ]
  },
  {
   "attachments": {},
   "cell_type": "markdown",
   "metadata": {},
   "source": [
    "Finally, unique to my work is the exploration of SCZ and cross-modal synapses, specifically by changing the amplitude of the Gaussian function ($\\Phi_{rs}$) and performing pruning in the section below"
   ]
  },
  {
   "cell_type": "code",
   "execution_count": 29,
   "metadata": {},
   "outputs": [],
   "source": [
    "#Start by building the inflexible parameters\n",
    "\n",
    "Wt, Wa, Wv, Bt, Ba, Bv = FwFb(6.5, 6.5, 6.5, 7.75, 7.75, 7.75, 17, 990, 49, 0.98) #feedforward and feedback\n",
    "Lt, La, Lv = Lw(0.15, 0.05, 1, 4, 0.15, 0.05, 20, 80, 0.15, 0.05, 2, 8) #lateral"
   ]
  },
  {
   "cell_type": "code",
   "execution_count": 30,
   "metadata": {},
   "outputs": [],
   "source": [
    "CMPhis = np.linspace(0.89, 0.05, 15)\n",
    "\n",
    "zt = np.zeros((len(CMPhis), Mt,Nt,len(dist), n))\n",
    "zv = np.zeros((len(CMPhis), Mv,Nv,len(dist), n))\n",
    "za = np.zeros((len(CMPhis), Ma,Na,len(dist), n))\n",
    "zm = np.zeros((len(CMPhis), len(dist), n))\n",
    "CMRTs = np.zeros((len(CMPhis), len(dist)))\n",
    "\n",
    "for i in range(len(CMPhis)):\n",
    "    Wat, Wvt, Wav = crossmodal(CMPhis[i], 2, CMPhis[i], 2, CMPhis[i], 2) #cross-modal\n",
    "    zt[i,:,:,:,:], za[i,:,:,:,:], zm[i,:,:], zv[i,:,:,:,:], CMRTs[i, :] = experiment(0.4, T, dist, 5, Lt, La, Lv, Wt, Wa, Wv, Bt, Ba, Bv, Wat, Wvt, Wav, 0, 0)\n"
   ]
  },
  {
   "cell_type": "code",
   "execution_count": 31,
   "metadata": {},
   "outputs": [],
   "source": [
    "CMcp = np.zeros(len(CMPhis))\n",
    "CMslope = np.zeros(len(CMPhis))\n",
    "\n",
    "for i in range(len(CMPhis)):\n",
    "  \n",
    "  RTs = CMRTs[i,:]\n",
    "\n",
    "  ymin = np.min(RTs)\n",
    "  ymax = np.max(RTs)\n",
    "\n",
    "  CMcp[i], CMslope[i] =  fitting(dist, RTs)  \n",
    "\n",
    "np.save(\"CMcp.npy\", CMcp)\n",
    "np.save(\"CMslope.npy\", CMslope)\n",
    "np.save(\"CMRT.npy\", CMRTs)"
   ]
  },
  {
   "cell_type": "code",
   "execution_count": 33,
   "metadata": {},
   "outputs": [
    {
     "data": {
      "text/plain": [
       "array([11.27003818, 11.27003818, 11.27003818, 11.27003818, 11.27003818,\n",
       "       11.27003818, 11.27003818, 11.27003818, 11.27003818, 11.27003818,\n",
       "       11.27003818, 11.27003818, 11.27003818, 11.27003818, 11.27003818])"
      ]
     },
     "execution_count": 33,
     "metadata": {},
     "output_type": "execute_result"
    }
   ],
   "source": [
    "CMslope"
   ]
  }
 ],
 "metadata": {
  "kernelspec": {
   "display_name": "Python 3",
   "language": "python",
   "name": "python3"
  },
  "language_info": {
   "codemirror_mode": {
    "name": "ipython",
    "version": 3
   },
   "file_extension": ".py",
   "mimetype": "text/x-python",
   "name": "python",
   "nbconvert_exporter": "python",
   "pygments_lexer": "ipython3",
   "version": "3.8.10"
  },
  "orig_nbformat": 4,
  "vscode": {
   "interpreter": {
    "hash": "e7370f93d1d0cde622a1f8e1c04877d8463912d04d973331ad4851f04de6915a"
   }
  }
 },
 "nbformat": 4,
 "nbformat_minor": 2
}
